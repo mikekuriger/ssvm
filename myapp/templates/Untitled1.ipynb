{
 "cells": [
  {
   "cell_type": "code",
   "execution_count": 2,
   "id": "1bf2c431-963d-4cee-bfa3-02c158764589",
   "metadata": {},
   "outputs": [
    {
     "ename": "IndentationError",
     "evalue": "unindent does not match any outer indentation level (<tokenize>, line 61)",
     "output_type": "error",
     "traceback": [
      "\u001b[0;36m  File \u001b[0;32m\"<tokenize>\"\u001b[0;36m, line \u001b[0;32m61\u001b[0m\n\u001b[0;31m    </div>\u001b[0m\n\u001b[0m    ^\u001b[0m\n\u001b[0;31mIndentationError\u001b[0m\u001b[0;31m:\u001b[0m unindent does not match any outer indentation level\n"
     ]
    }
   ],
   "source": [
    "<!DOCTYPE html>\n",
    "\n",
    "<html lang=\"en-us\" dir=\"ltr\">\n",
    "<head>\n",
    "<title>Site administration | Django site admin</title>\n",
    "<link rel=\"stylesheet\" type=\"text/css\" href=\"/static/admin/css/base.css\">\n",
    "\n",
    "  <link rel=\"stylesheet\" type=\"text/css\" href=\"/static/admin/css/nav_sidebar.css\">\n",
    "  <script src=\"/static/admin/js/nav_sidebar.js\" defer></script>\n",
    "\n",
    "<link rel=\"stylesheet\" type=\"text/css\" href=\"/static/admin/css/dashboard.css\">\n",
    "\n",
    "\n",
    "\n",
    "    <meta name=\"viewport\" content=\"user-scalable=no, width=device-width, initial-scale=1.0, maximum-scale=1.0\">\n",
    "    <link rel=\"stylesheet\" type=\"text/css\" href=\"/static/admin/css/responsive.css\">\n",
    "    \n",
    "\n",
    "<meta name=\"robots\" content=\"NONE,NOARCHIVE\">\n",
    "</head>\n",
    "\n",
    "\n",
    "<body class=\" dashboard\"\n",
    "  data-admin-utc-offset=\"0\">\n",
    "\n",
    "<!-- Container -->\n",
    "<div id=\"container\">\n",
    "\n",
    "    \n",
    "    <!-- Header -->\n",
    "    <div id=\"header\">\n",
    "        <div id=\"branding\">\n",
    "        \n",
    "<h1 id=\"site-name\"><a href=\"/admin/\">Django administration</a></h1>\n",
    "\n",
    "        </div>\n",
    "        \n",
    "        \n",
    "        <div id=\"user-tools\">\n",
    "            \n",
    "                Welcome,\n",
    "                <strong>admin</strong>.\n",
    "            \n",
    "            \n",
    "                \n",
    "                    <a href=\"/\">View site</a> /\n",
    "                \n",
    "                \n",
    "                    \n",
    "                    \n",
    "                \n",
    "                \n",
    "                <a href=\"/admin/password_change/\">Change password</a> /\n",
    "                \n",
    "                <a href=\"/admin/logout/\">Log out</a>\n",
    "            \n",
    "        </div>\n",
    "        \n",
    "        \n",
    "        \n",
    "    </div>\n",
    "    <!-- END Header -->"
   ]
  },
  {
   "cell_type": "code",
   "execution_count": 4,
   "id": "60972c07-929b-4640-a1d2-ada4fc4244fb",
   "metadata": {},
   "outputs": [
    {
     "ename": "IndentationError",
     "evalue": "unindent does not match any outer indentation level (<tokenize>, line 7)",
     "output_type": "error",
     "traceback": [
      "\u001b[0;36m  File \u001b[0;32m\"<tokenize>\"\u001b[0;36m, line \u001b[0;32m7\u001b[0m\n\u001b[0;31m    </colgroup>\u001b[0m\n\u001b[0m    ^\u001b[0m\n\u001b[0;31mIndentationError\u001b[0m\u001b[0;31m:\u001b[0m unindent does not match any outer indentation level\n"
     ]
    }
   ],
   "source": [
    "<colgroup>\n",
    "        <col style=\"width: 150px;\"> <!-- Static width for the first column -->\n",
    "        <col style=\"width: 200px;\"> <!-- Static width for the second column -->\n",
    "        <col style=\"width: 100px;\"> <!-- Static width for the third column -->\n",
    "        <col style=\"width: 150px;\"> <!-- Static width for the fourth column -->\n",
    "        <!-- Add more columns as needed -->\n",
    "    </colgroup>\n",
    "    <thead>\n",
    "        <tr>\n",
    "            <th>Name</th>\n",
    "            <th>Owner</th>\n",
    "            <th>VM Count</th>\n",
    "            <th>Type</th>\n",
    "        </tr>\n",
    "    </thead>\n",
    "    <tbody>"
   ]
  },
  {
   "cell_type": "code",
   "execution_count": 13,
   "id": "fe0fa47a-11e1-4380-8bc4-9629cb009152",
   "metadata": {},
   "outputs": [
    {
     "name": "stdout",
     "output_type": "stream",
     "text": [
      "/ev3dccomp01/host/A-1-5/Resources\n",
      "ev3ds_a15_01\n"
     ]
    }
   ],
   "source": [
    "cluster_name = 'A-1-5'\n",
    "converted_cluster = CLUSTER.replace(\"-\", \"\").lower()\n",
    "pool = f\"/ev3dccomp01/host/{CLUSTER}/Resources\"\n",
    "ds = f\"ev3ds_{converted_cluster}_01\"\n",
    "print(pool)\n",
    "print(ds)\n",
    "\n"
   ]
  },
  {
   "cell_type": "code",
   "execution_count": 15,
   "id": "88a6fc23-006f-4aae-8f32-f8de981f84aa",
   "metadata": {},
   "outputs": [
    {
     "name": "stdout",
     "output_type": "stream",
     "text": [
      "blablabla\n"
     ]
    }
   ],
   "source": [
    "DATASTORECLUSTER = 'rawblablabla'\n",
    "if DATASTORECLUSTER.startswith(\"raw\"):\n",
    "            DATASTORE = DATASTORECLUSTER[3:]\n",
    "print(DATASTORE)\n"
   ]
  },
  {
   "cell_type": "code",
   "execution_count": 16,
   "id": "6d251c68-4e26-44d4-9988-281eb55fc59f",
   "metadata": {},
   "outputs": [
    {
     "name": "stdout",
     "output_type": "stream",
     "text": [
      "No Datastore Cluster found, using datastore directly\n"
     ]
    }
   ],
   "source": [
    "print(f\"No Datastore Cluster found, using datastore directly\")"
   ]
  },
  {
   "cell_type": "code",
   "execution_count": 22,
   "id": "efdc4756-e6a9-47af-b3ac-27071d2612a0",
   "metadata": {},
   "outputs": [
    {
     "name": "stdout",
     "output_type": "stream",
     "text": [
      "ev3dscl-compa15\n"
     ]
    }
   ],
   "source": [
    "result = \"Name:            ev3dscl-compa15\"\n",
    "if \"Name\" in result and \"a15\" in result:\n",
    "    datastorecluster_name = result.split()[1]\n",
    "    #return datastorecluster_name\n",
    "print(datastorecluster_name)\n"
   ]
  },
  {
   "cell_type": "code",
   "execution_count": 23,
   "id": "f0c8a7be-d886-47ce-94d3-9c7b807edd08",
   "metadata": {},
   "outputs": [
    {
     "name": "stdout",
     "output_type": "stream",
     "text": [
      "Linux\n"
     ]
    }
   ],
   "source": [
    "import platform\n",
    "os_type = platform.system()\n",
    "\n",
    "print(os_type)"
   ]
  },
  {
   "cell_type": "code",
   "execution_count": null,
   "id": "258c7977-4121-4115-b5f0-1be6e5308bde",
   "metadata": {},
   "outputs": [],
   "source": [
    "<!DOCTYPE html>\n",
    "<html lang=\"en\">\n",
    "<head>\n",
    "    <meta charset=\"UTF-8\">\n",
    "    <meta name=\"viewport\" content=\"width=device-width, initial-scale=1.0\">\n",
    "    <title>Create VM</title>\n",
    "    {% load static %}\n",
    "    {% load custom_filters %}\n",
    "    <link rel=\"stylesheet\" href=\"{% static 'css/bootstrap.min.css' %}\">\n",
    "    <link rel=\"icon\" href=\"{% static 'favicon.ico' %}\">\n",
    "    <link rel=\"stylesheet\" href=\"{% static 'css/shared.css' %}\">\n",
    "\n",
    "    <style>\n",
    "        .mb-3 {\n",
    "            margin-bottom: 5px !important; \n",
    "        }\n",
    "        .fixed-width-left {\n",
    "            width: 500px;\n",
    "        }\n",
    "        .fixed-width-center {\n",
    "            width: 450px; \n",
    "        }\n",
    "        .small-label {\n",
    "            font-size: 0.75rem;\n",
    "        }\n",
    "        .custom-container {\n",
    "            max-width: 90%;\n",
    "            margin-top: 20px;\n",
    "        }\n",
    "        .my-smaller-field {\n",
    "            font-size: 12px;\n",
    "            height: 25px;\n",
    "            padding: 0px 18px;\n",
    "            width: 85%;\n",
    "            box-sizing: border-box;\n",
    "        }\n",
    "        #hostname_hint {\n",
    "            font-size: 10px;\n",
    "        }\n",
    "        .hidden {\n",
    "            display: none !important;\n",
    "        }\n",
    "        .push-down {\n",
    "            margin-top: 40px;\n",
    "        }\n",
    "        .move-right {\n",
    "            margin-left: 150px;\n",
    "        }\n",
    "         select, textarea {\n",
    "            background-color: #a1d6f7 !important;\n",
    "        }\n",
    "        input:required:invalid {\n",
    "            border-color: orange;\n",
    "            background-color: #FFDAB9 !important;\n",
    "        }\n",
    "        input:required:valid {\n",
    "            border-color: green;\n",
    "            background-color: #e6ffe6 !important;\n",
    "        }\n",
    "        select:required:invalid {\n",
    "            border-color: orange;\n",
    "            background-color: #FFDAB9 !important;\n",
    "        }\n",
    "        select:required:valid {\n",
    "            border-color: green;\n",
    "            background-color: #e6ffe6 !important;\n",
    "        }\n",
    "        .small-text {\n",
    "            font-size: 0.8em;\n",
    "            line-height: 1.2;\n",
    "        }\n",
    "        .list-group-item {\n",
    "            border: 0px solid #ddd;\n",
    "            padding: 1px;\n",
    "            margin-bottom: 3px;\n",
    "            border-radius: 0px;\n",
    "        }\n",
    "    </style>\n",
    "</head>\n",
    "<body class=\"dashboard\" data-admin-utc-offset=\"0\">\n",
    "\n",
    "<!-- Container -->\n",
    "<div id=\"container\">\n",
    "    <!-- Header -->\n",
    "    <div id=\"header\">\n",
    "        <div id=\"branding\">\n",
    "            <h1 id=\"site-name\"><a href=\"/admin/\">Thryv Self-Serve Virtual Machine</a></h1>\n",
    "        </div>\n",
    "        <div id=\"user-tools\">\n",
    "            Welcome,\n",
    "            <strong>USER</strong> -\n",
    "            <a href=\"/\">Create VM</a> /\n",
    "            <a href=\"/nodes\">Nodes</a> /\n",
    "            <a href=\"/deployments\">Deployments</a> /\n",
    "            <a href=\"/admin/\" class=\"{% if request.resolver_match.url_name == 'admin:index' %}active{% endif %}\">Admin</a> /\n",
    "            <a href=\"/admin/password_change/\">Change password</a> /\n",
    "            <a href=\"/admin/logout/\">Log out</a>\n",
    "        </div>\n",
    "    </div>\n",
    "    <!-- END Header -->"
   ]
  }
 ],
 "metadata": {
  "kernelspec": {
   "display_name": "Python 3",
   "language": "python",
   "name": "python3"
  },
  "language_info": {
   "codemirror_mode": {
    "name": "ipython",
    "version": 3
   },
   "file_extension": ".py",
   "mimetype": "text/x-python",
   "name": "python",
   "nbconvert_exporter": "python",
   "pygments_lexer": "ipython3",
   "version": "3.6.8"
  }
 },
 "nbformat": 4,
 "nbformat_minor": 5
}
